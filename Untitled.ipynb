{
 "cells": [
  {
   "cell_type": "code",
   "execution_count": null,
   "id": "9d888f84-7534-4c61-81b7-53d093062613",
   "metadata": {},
   "outputs": [],
   "source": [
    "from gustavo_image_processor.utils.io import read_image\n",
    "from gustavo_image_processor.utils.plot import plot_image"
   ]
  },
  {
   "cell_type": "code",
   "execution_count": null,
   "id": "d7972f6b-ff76-4baa-9731-073a9fa182ce",
   "metadata": {},
   "outputs": [],
   "source": [
    "image1 = read_image('images/Fushia Village.jpg')\n",
    "image2 = read_image('images/Makino Bar.jpg')"
   ]
  },
  {
   "cell_type": "code",
   "execution_count": 4,
   "id": "8c172750-ece8-4ef8-9a18-32a9eb082fb0",
   "metadata": {},
   "outputs": [
    {
     "ename": "NameError",
     "evalue": "name 'plot_image' is not defined",
     "output_type": "error",
     "traceback": [
      "\u001b[0;31m---------------------------------------------------------------------------\u001b[0m",
      "\u001b[0;31mNameError\u001b[0m                                 Traceback (most recent call last)",
      "Cell \u001b[0;32mIn[4], line 1\u001b[0m\n\u001b[0;32m----> 1\u001b[0m \u001b[43mplot_image\u001b[49m(image1)\n\u001b[1;32m      2\u001b[0m plot_image(image2)\n",
      "\u001b[0;31mNameError\u001b[0m: name 'plot_image' is not defined"
     ]
    }
   ],
   "source": [
    "plot_image(image1)\n",
    "plot_image(image2)"
   ]
  },
  {
   "cell_type": "code",
   "execution_count": null,
   "id": "28f50700-ea2c-4f76-b71b-dae455a357e0",
   "metadata": {},
   "outputs": [],
   "source": []
  }
 ],
 "metadata": {
  "kernelspec": {
   "display_name": "Python 3 (ipykernel)",
   "language": "python",
   "name": "python3"
  },
  "language_info": {
   "codemirror_mode": {
    "name": "ipython",
    "version": 3
   },
   "file_extension": ".py",
   "mimetype": "text/x-python",
   "name": "python",
   "nbconvert_exporter": "python",
   "pygments_lexer": "ipython3",
   "version": "3.12.4"
  }
 },
 "nbformat": 4,
 "nbformat_minor": 5
}
